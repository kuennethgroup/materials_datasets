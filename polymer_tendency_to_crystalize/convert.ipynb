{
 "cells": [
  {
   "cell_type": "code",
   "execution_count": 46,
   "metadata": {},
   "outputs": [],
   "source": [
    "import pandas as pd\n",
    "import numpy as np\n",
    "df = pd.read_json('polymers_tend_to_crystalize.json')\n",
    "\n",
    "df = df.drop(columns=['property']).rename(columns={'value': 'crystalize'})\n",
    "\n",
    "df = pd.concat([df, pd.DataFrame(np.stack(df.fingerprint ))],axis=1).drop(columns=['fingerprint'])\n",
    "df.to_json('polymers_tend_to_crystalize_format2.json', orient='records')"
   ]
  }
 ],
 "metadata": {
  "kernelspec": {
   "display_name": ".venv",
   "language": "python",
   "name": "python3"
  },
  "language_info": {
   "codemirror_mode": {
    "name": "ipython",
    "version": 3
   },
   "file_extension": ".py",
   "mimetype": "text/x-python",
   "name": "python",
   "nbconvert_exporter": "python",
   "pygments_lexer": "ipython3",
   "version": "3.12.8"
  }
 },
 "nbformat": 4,
 "nbformat_minor": 2
}
